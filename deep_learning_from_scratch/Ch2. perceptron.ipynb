{
 "cells": [
  {
   "cell_type": "markdown",
   "id": "b407af6d",
   "metadata": {},
   "source": [
    "# ch2. 퍼셉트론\n",
    "\n",
    "## 2.1 AND 게이트\n",
    "1. 순수 python으로 구현"
   ]
  },
  {
   "cell_type": "code",
   "execution_count": 3,
   "id": "5ed0a754",
   "metadata": {
    "ExecuteTime": {
     "end_time": "2023-09-16T08:46:26.268047Z",
     "start_time": "2023-09-16T08:46:26.264846Z"
    }
   },
   "outputs": [],
   "source": [
    "def AND(x1, x2):\n",
    "    w1, w2, theta = 0.5, 0.5, 0.7\n",
    "    tmp = x1 * w1 + x2 * w2\n",
    "    if tmp <= theta:\n",
    "        return 0\n",
    "    elif tmp > theta:\n",
    "        return 1"
   ]
  },
  {
   "cell_type": "code",
   "execution_count": 4,
   "id": "5da4ce26",
   "metadata": {
    "ExecuteTime": {
     "end_time": "2023-09-16T08:46:27.244493Z",
     "start_time": "2023-09-16T08:46:27.240246Z"
    }
   },
   "outputs": [
    {
     "name": "stdout",
     "output_type": "stream",
     "text": [
      "0\n",
      "0\n",
      "0\n",
      "1\n"
     ]
    }
   ],
   "source": [
    "print(AND(0, 0))\n",
    "print(AND(1, 0))\n",
    "print(AND(0, 1))\n",
    "print(AND(1, 1))"
   ]
  },
  {
   "cell_type": "markdown",
   "source": [
    "2. numpy로 구현"
   ],
   "metadata": {
    "collapsed": false
   },
   "id": "55b736ed7b377bc"
  },
  {
   "cell_type": "code",
   "execution_count": 5,
   "outputs": [],
   "source": [
    "import numpy as np"
   ],
   "metadata": {
    "collapsed": false,
    "ExecuteTime": {
     "end_time": "2023-09-16T08:49:41.944998Z",
     "start_time": "2023-09-16T08:49:41.579347Z"
    }
   },
   "id": "54284087c2f3cebb"
  },
  {
   "cell_type": "code",
   "execution_count": 8,
   "outputs": [],
   "source": [
    "def AND(x1, x2):\n",
    "    x = np.array([x1, x2])\n",
    "    w = np.array([0.5, 0.5])\n",
    "    b = -0.7\n",
    "    tmp = np.sum(x * w) + b\n",
    "    if tmp <= 0:\n",
    "        return 0\n",
    "    else:\n",
    "        return 1"
   ],
   "metadata": {
    "collapsed": false,
    "ExecuteTime": {
     "end_time": "2023-09-16T08:50:54.486541Z",
     "start_time": "2023-09-16T08:50:54.485068Z"
    }
   },
   "id": "f2dcd31a58e1cbe2"
  },
  {
   "cell_type": "code",
   "execution_count": 9,
   "outputs": [
    {
     "name": "stdout",
     "output_type": "stream",
     "text": [
      "0\n",
      "0\n",
      "0\n",
      "1\n"
     ]
    }
   ],
   "source": [
    "print(AND(0, 0))\n",
    "print(AND(1, 0))\n",
    "print(AND(0, 1))\n",
    "print(AND(1, 1))"
   ],
   "metadata": {
    "collapsed": false,
    "ExecuteTime": {
     "end_time": "2023-09-16T08:50:55.073893Z",
     "start_time": "2023-09-16T08:50:55.069837Z"
    }
   },
   "id": "a873bb5b2f523773"
  },
  {
   "cell_type": "markdown",
   "source": [
    "## 2.2 NAND 게이트와 OR 게이트"
   ],
   "metadata": {
    "collapsed": false
   },
   "id": "f431f16dd32273bb"
  },
  {
   "cell_type": "code",
   "execution_count": 10,
   "outputs": [],
   "source": [
    "def NAND(x1, x2):\n",
    "    x = np.array([x1, x2])\n",
    "    w = np.array([-0.5, -0.5]) # AND와는 가중치(w와 b)만 다르다!\n",
    "    b = 0.7\n",
    "    tmp = np.sum(x * w) + b\n",
    "    if tmp <= 0:\n",
    "        return 0\n",
    "    else:\n",
    "        return 1"
   ],
   "metadata": {
    "collapsed": false,
    "ExecuteTime": {
     "end_time": "2023-09-16T08:51:16.890527Z",
     "start_time": "2023-09-16T08:51:16.882933Z"
    }
   },
   "id": "b42e416a3e890897"
  },
  {
   "cell_type": "code",
   "execution_count": 11,
   "outputs": [
    {
     "name": "stdout",
     "output_type": "stream",
     "text": [
      "1\n",
      "1\n",
      "1\n",
      "0\n"
     ]
    }
   ],
   "source": [
    "print(NAND(0, 0))\n",
    "print(NAND(1, 0))\n",
    "print(NAND(0, 1))\n",
    "print(NAND(1, 1))"
   ],
   "metadata": {
    "collapsed": false,
    "ExecuteTime": {
     "end_time": "2023-09-16T08:51:24.603671Z",
     "start_time": "2023-09-16T08:51:24.598902Z"
    }
   },
   "id": "bc5745cd84e7a9ef"
  },
  {
   "cell_type": "code",
   "execution_count": 12,
   "outputs": [],
   "source": [
    "def OR(x1, x2):\n",
    "    x = np.array([x1, x2])\n",
    "    w = np.array([0.5, 0.5]) # AND와는 가중치(w와 b)만 다르다!\n",
    "    b = -0.2\n",
    "    tmp = np.sum(x * w) + b\n",
    "    if tmp <= 0:\n",
    "        return 0\n",
    "    else:\n",
    "        return 1"
   ],
   "metadata": {
    "collapsed": false,
    "ExecuteTime": {
     "end_time": "2023-09-16T08:51:29.648288Z",
     "start_time": "2023-09-16T08:51:29.640906Z"
    }
   },
   "id": "4952cf6581e9114"
  },
  {
   "cell_type": "code",
   "execution_count": 13,
   "outputs": [
    {
     "name": "stdout",
     "output_type": "stream",
     "text": [
      "0\n",
      "1\n",
      "1\n",
      "1\n"
     ]
    }
   ],
   "source": [
    "print(OR(0, 0))\n",
    "print(OR(1, 0))\n",
    "print(OR(0, 1))\n",
    "print(OR(1, 1))"
   ],
   "metadata": {
    "collapsed": false,
    "ExecuteTime": {
     "end_time": "2023-09-16T08:51:35.657985Z",
     "start_time": "2023-09-16T08:51:35.648940Z"
    }
   },
   "id": "183edd92299e87ac"
  },
  {
   "cell_type": "markdown",
   "source": [
    "## 2.3 퍼셉트론의 한계\n",
    "\n",
    "퍼셉트론은 XOR 게이트를 구현할 수 없다.\n",
    "XOR gate는 선형 영역이 아니기 때문이다.\n",
    "\n",
    "<img src=\"images/xor.png\" alt=\"XOR gate\" />\n",
    "\n",
    "하지만 이는 multi-layer perceptron으로 해결할 수 있다."
   ],
   "metadata": {
    "collapsed": false
   },
   "id": "62e3246651cb6997"
  },
  {
   "cell_type": "code",
   "execution_count": 14,
   "outputs": [],
   "source": [
    "def XOR(x1, x2):\n",
    "    s1 = NAND(x1, x2)\n",
    "    s2 = OR(x1, x2)\n",
    "    y  = AND(s1, s2)\n",
    "    return y"
   ],
   "metadata": {
    "collapsed": false,
    "ExecuteTime": {
     "end_time": "2023-09-16T08:52:32.543490Z",
     "start_time": "2023-09-16T08:52:32.537735Z"
    }
   },
   "id": "98f43ec045e22702"
  },
  {
   "cell_type": "code",
   "execution_count": 15,
   "outputs": [
    {
     "name": "stdout",
     "output_type": "stream",
     "text": [
      "0\n",
      "1\n",
      "1\n",
      "0\n"
     ]
    }
   ],
   "source": [
    "print(XOR(0, 0))\n",
    "print(XOR(1, 0))\n",
    "print(XOR(0, 1))\n",
    "print(XOR(1, 1))"
   ],
   "metadata": {
    "collapsed": false,
    "ExecuteTime": {
     "end_time": "2023-09-16T08:52:40.065966Z",
     "start_time": "2023-09-16T08:52:40.060427Z"
    }
   },
   "id": "f7e13e2e3aa211d4"
  },
  {
   "cell_type": "code",
   "execution_count": null,
   "outputs": [],
   "source": [],
   "metadata": {
    "collapsed": false
   },
   "id": "fbd75a195f76f64c"
  }
 ],
 "metadata": {
  "kernelspec": {
   "display_name": "ml_venv",
   "language": "python",
   "name": "venv"
  },
  "language_info": {
   "codemirror_mode": {
    "name": "ipython",
    "version": 3
   },
   "file_extension": ".py",
   "mimetype": "text/x-python",
   "name": "python",
   "nbconvert_exporter": "python",
   "pygments_lexer": "ipython3",
   "version": "3.10.5"
  }
 },
 "nbformat": 4,
 "nbformat_minor": 5
}
