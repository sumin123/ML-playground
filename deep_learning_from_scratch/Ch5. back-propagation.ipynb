{
 "cells": [
  {
   "cell_type": "markdown",
   "id": "7977e79b",
   "metadata": {},
   "source": [
    "# Ch5. back propagation"
   ]
  },
  {
   "cell_type": "markdown",
   "id": "ef658bae",
   "metadata": {},
   "source": [
    "이번장에서는 해석적인 방법으로 network를 학습시켜보자"
   ]
  },
  {
   "cell_type": "code",
   "execution_count": 1,
   "id": "5552df5f",
   "metadata": {},
   "outputs": [],
   "source": [
    "import numpy as np"
   ]
  },
  {
   "cell_type": "code",
   "execution_count": 2,
   "id": "624d48b0",
   "metadata": {},
   "outputs": [],
   "source": [
    "def cross_entropy_error_one_hot(y, t):\n",
    "    if y.ndim == 1:\n",
    "        t = t.reshape(1, t.size)\n",
    "        y = y.reshape(1, y.size)\n",
    "        \n",
    "    batch_size = y.shape[0]\n",
    "    return -np.sum(t * np.log(y)) / batch_size"
   ]
  },
  {
   "cell_type": "code",
   "execution_count": 3,
   "id": "f9b1396b",
   "metadata": {},
   "outputs": [],
   "source": [
    "def _numerical_grad(f, x):\n",
    "    h = 1e-4\n",
    "    grad = np.zeros(x.size)\n",
    "\n",
    "    for dim in range(x.size):\n",
    "        temp = x[dim]\n",
    "\n",
    "        x[dim] = temp - h\n",
    "        f1 = f(x)\n",
    "\n",
    "        x[dim] = temp + h\n",
    "        f2 = f(x)\n",
    "\n",
    "        grad[dim] = (f2 - f1) / (2 * h)\n",
    "\n",
    "    return grad\n",
    "\n",
    "def numerical_gradient_batch(f, X):\n",
    "    if X.ndim == 1:\n",
    "        return _numerical_grad(f, X)\n",
    "\n",
    "    grad = np.zeros_like(X)\n",
    "    for idx in range(X.shape[0]):\n",
    "        grad[idx] = _numerical_grad(f, X[idx])\n",
    "\n",
    "    return grad\n",
    "\n",
    "# not work\n",
    "def numerical_gradient_batch_v2(f, X):\n",
    "    h = 1e-4\n",
    "    if X.ndim == 1:\n",
    "        return _numerical_grad(f, X)\n",
    "\n",
    "    grad = np.zeros_like(X)\n",
    "    for col in range(X.shape[1]):\n",
    "        H = np.zeros_like(X)\n",
    "        H[:, col] += h\n",
    "\n",
    "        f1 = f(X - H)\n",
    "        f2 = f(X + H)\n",
    "\n",
    "        grad[:, col] = (f2 - f1) / (2 * h)\n",
    "\n",
    "    return grad\n"
   ]
  },
  {
   "cell_type": "code",
   "execution_count": 4,
   "id": "ed4c423b",
   "metadata": {},
   "outputs": [],
   "source": [
    "def softmax(x):\n",
    "    if x.ndim == 2:\n",
    "        x = x.T\n",
    "        x = x - np.max(x, axis=0)\n",
    "        y = np.exp(x) / np.sum(np.exp(x), axis=0)\n",
    "        return y.T\n",
    "\n",
    "    x = x - np.max(x)  # 오버플로 대책\n",
    "    return np.exp(x) / np.sum(np.exp(x))"
   ]
  },
  {
   "cell_type": "markdown",
   "id": "71efe803",
   "metadata": {},
   "source": [
    "### layer 구현"
   ]
  },
  {
   "cell_type": "code",
   "execution_count": 5,
   "id": "bd662a14",
   "metadata": {},
   "outputs": [],
   "source": [
    "class ReLU:\n",
    "    def __init__(self):\n",
    "        self.mask = None\n",
    "        \n",
    "    def forward(self, x):\n",
    "        self.mask = (x <= 0)\n",
    "        out = x.copy()\n",
    "        out[self.mask] = 0\n",
    "        \n",
    "        return out\n",
    "    \n",
    "    def backward(self, dout):\n",
    "        dout[self.mask] = 0\n",
    "        dx = dout\n",
    "\n",
    "        return dx"
   ]
  },
  {
   "cell_type": "code",
   "execution_count": 6,
   "id": "d8fb19eb",
   "metadata": {},
   "outputs": [],
   "source": [
    "class Affine:\n",
    "    def __init__(self, W, b):\n",
    "        self.W = W\n",
    "        self.b = b\n",
    "        self.x = None\n",
    "        self.dW = None\n",
    "        self.db = None\n",
    "        \n",
    "    def forward(self, x):\n",
    "        self.x = x\n",
    "        return np.dot(self.x, self.W) + self.b\n",
    "    \n",
    "    def backward(self, dout):        \n",
    "        self.dW = np.dot(self.x.T, dout)\n",
    "        self.db = np.sum(dout, axis=0)\n",
    "        dx = np.dot(dout, self.W.T)\n",
    "        \n",
    "        return dx"
   ]
  },
  {
   "cell_type": "markdown",
   "id": "ee8aae53",
   "metadata": {},
   "source": [
    "### softmax-with-loss"
   ]
  },
  {
   "cell_type": "code",
   "execution_count": 7,
   "id": "f7f9f750",
   "metadata": {},
   "outputs": [],
   "source": [
    "class SoftmaxWithLoss:\n",
    "    def __init__(self):\n",
    "        self.loss = None\n",
    "        self.y = None\n",
    "        self.t = None\n",
    "        \n",
    "    def forward(self, x, t):\n",
    "        self.t = t\n",
    "        self.y = softmax(x)\n",
    "        self.loss = cross_entropy_error_one_hot(self.y, t)\n",
    "        \n",
    "        return self.loss\n",
    "    \n",
    "    def backward(self, dout=1):\n",
    "        batch_size = self.t.shape[0]\n",
    "        dx = (self.y - self.t) / batch_size\n",
    "        \n",
    "        return dx"
   ]
  },
  {
   "cell_type": "markdown",
   "id": "0fbddc94",
   "metadata": {},
   "source": [
    "### neural net 구성"
   ]
  },
  {
   "cell_type": "code",
   "execution_count": 8,
   "id": "e21eefdc",
   "metadata": {},
   "outputs": [],
   "source": [
    "from collections import OrderedDict\n",
    "\n",
    "class TwoLayerNet:\n",
    "    def __init__(self, input_size, hidden_size, output_size, weight_init_std=0.1):\n",
    "        self.params = {}\n",
    "        self.params['W1'] = weight_init_std * np.random.randn(input_size, hidden_size)\n",
    "        self.params['W2'] = weight_init_std * np.random.randn(hidden_size, output_size)\n",
    "        \n",
    "        self.params['b1'] = np.zeros(hidden_size)\n",
    "        self.params['b2'] = np.zeros(output_size)\n",
    "        \n",
    "        self.layers = OrderedDict()\n",
    "        self.layers['Affine1'] = Affine(self.params['W1'], self.params['b1'])\n",
    "        self.layers['Relu1'] = ReLU()\n",
    "        self.layers['Affine2'] = Affine(self.params['W2'], self.params['b2'])\n",
    "        self.layers['Relu2'] = ReLU()\n",
    "        \n",
    "        self.last_layer = SoftmaxWithLoss()\n",
    "        \n",
    "    def predict(self, x):\n",
    "        for layer in self.layers.values():\n",
    "            x = layer.forward(x)\n",
    "        \n",
    "        return x\n",
    "        \n",
    "    \n",
    "    def loss(self, x, t):\n",
    "        y = self.predict(x)\n",
    "        \n",
    "        return self.last_layer.forward(y, t)\n",
    "    \n",
    "    def accuracy(self, x, t):\n",
    "        y = self.predict(x)\n",
    "        y = np.argmax(y, axis=1)\n",
    "        t = np.argmax(t, axis=1)\n",
    "        \n",
    "        accuracy = np.sum(y==t) / float(x.shape[0])\n",
    "        return accuracy\n",
    "    \n",
    "    def numerical_gradient(self, x, t):\n",
    "        loss_W = lambda W: self.loss(x, t)\n",
    "        \n",
    "        grads = {}\n",
    "        grads['W1'] = numerical_gradient_batch(loss_W, self.params['W1'])\n",
    "        grads['b1'] = numerical_gradient_batch(loss_W, self.params['b1'])\n",
    "        grads['W2'] = numerical_gradient_batch(loss_W, self.params['W2'])\n",
    "        grads['b2'] = numerical_gradient_batch(loss_W, self.params['b2'])\n",
    "        \n",
    "        return grads\n",
    "    \n",
    "    def gradient(self, x, t):\n",
    "        self.loss(x, t)\n",
    "        \n",
    "        dout = 1\n",
    "        dout = self.last_layer.backward(dout)\n",
    "        \n",
    "        layers = list(self.layers.values())\n",
    "        layers.reverse()\n",
    "        for layer in layers:\n",
    "            dout = layer.backward(dout)\n",
    "            \n",
    "        grads = {}\n",
    "        grads['W1'] = self.layers['Affine1'].dW\n",
    "        grads['b1'] = self.layers['Affine1'].db\n",
    "        grads['W2'] = self.layers['Affine2'].dW\n",
    "        grads['b2'] = self.layers['Affine2'].db\n",
    "        \n",
    "        return grads"
   ]
  },
  {
   "cell_type": "code",
   "execution_count": 9,
   "id": "a700e2da",
   "metadata": {},
   "outputs": [],
   "source": [
    "from dataset.mnist import load_mnist\n",
    "(x_train, t_train), (x_test, t_test) = load_mnist(normalize=True, one_hot_label=True)"
   ]
  },
  {
   "cell_type": "code",
   "execution_count": 10,
   "id": "0e611b18",
   "metadata": {},
   "outputs": [],
   "source": [
    "iters_num=10000\n",
    "train_size = x_train.shape[0]\n",
    "batch_size = 100\n",
    "learning_rate = 0.1"
   ]
  },
  {
   "cell_type": "markdown",
   "id": "c6b22175",
   "metadata": {},
   "source": [
    "### train"
   ]
  },
  {
   "cell_type": "code",
   "execution_count": 11,
   "id": "c51b1cf1",
   "metadata": {
    "scrolled": true
   },
   "outputs": [
    {
     "name": "stdout",
     "output_type": "stream",
     "text": [
      "0th iter... test_acc: 0.0777, train_acc: 0.08396666666666666, loss: 2.289324441780502\n",
      "100th iter... test_acc: 0.6815, train_acc: 0.6778, loss: 0.9634228327779931\n",
      "200th iter... test_acc: 0.7172, train_acc: 0.7096833333333333, loss: 0.6833552282349273\n",
      "300th iter... test_acc: 0.7284, train_acc: 0.7238833333333333, loss: 0.6247839063832608\n",
      "400th iter... test_acc: 0.7364, train_acc: 0.7322833333333333, loss: 0.5770705409256907\n",
      "500th iter... test_acc: 0.7441, train_acc: 0.7374333333333334, loss: 0.7069713492335761\n",
      "600th iter... test_acc: 0.7442, train_acc: 0.7380333333333333, loss: 0.8242528346794429\n",
      "700th iter... test_acc: 0.7487, train_acc: 0.7428833333333333, loss: 0.8001617315104668\n",
      "800th iter... test_acc: 0.7498, train_acc: 0.7458666666666667, loss: 0.5855542801427963\n",
      "900th iter... test_acc: 0.7512, train_acc: 0.7485, loss: 0.7084754085405711\n",
      "1000th iter... test_acc: 0.7535, train_acc: 0.7512, loss: 0.6491848601802219\n",
      "1100th iter... test_acc: 0.7546, train_acc: 0.75135, loss: 0.631450732094205\n",
      "1200th iter... test_acc: 0.7558, train_acc: 0.7534, loss: 0.6249621105378237\n",
      "1300th iter... test_acc: 0.7559, train_acc: 0.7543833333333333, loss: 0.7910223943451513\n",
      "1400th iter... test_acc: 0.7577, train_acc: 0.7559, loss: 0.6161397665433946\n",
      "1500th iter... test_acc: 0.7584, train_acc: 0.7562333333333333, loss: 0.5341849467800537\n",
      "1600th iter... test_acc: 0.7603, train_acc: 0.75785, loss: 0.6034232352153376\n",
      "1700th iter... test_acc: 0.8462, train_acc: 0.8477333333333333, loss: 0.3406580323078122\n",
      "1800th iter... test_acc: 0.8456, train_acc: 0.8449666666666666, loss: 0.47790010034597713\n",
      "1900th iter... test_acc: 0.8499, train_acc: 0.8507833333333333, loss: 0.5889431958949123\n",
      "2000th iter... test_acc: 0.8509, train_acc: 0.8516666666666667, loss: 0.5912315871197014\n",
      "2100th iter... test_acc: 0.8517, train_acc: 0.8538, loss: 0.38864303190378463\n",
      "2200th iter... test_acc: 0.8531, train_acc: 0.8552166666666666, loss: 0.27377544996933656\n",
      "2300th iter... test_acc: 0.8526, train_acc: 0.8553166666666666, loss: 0.49217668122749536\n",
      "2400th iter... test_acc: 0.853, train_acc: 0.8560166666666666, loss: 0.40434667345049774\n",
      "2500th iter... test_acc: 0.8531, train_acc: 0.85815, loss: 0.418868033531523\n",
      "2600th iter... test_acc: 0.8534, train_acc: 0.8585333333333334, loss: 0.35412343397145163\n",
      "2700th iter... test_acc: 0.8532, train_acc: 0.8587333333333333, loss: 0.5159326954862352\n",
      "2800th iter... test_acc: 0.8532, train_acc: 0.8581, loss: 0.3982983359608569\n",
      "2900th iter... test_acc: 0.8577, train_acc: 0.8607666666666667, loss: 0.38367275046787414\n",
      "3000th iter... test_acc: 0.8573, train_acc: 0.8610333333333333, loss: 0.3852074517543798\n",
      "3100th iter... test_acc: 0.8567, train_acc: 0.8617833333333333, loss: 0.28084626062820167\n",
      "3200th iter... test_acc: 0.8582, train_acc: 0.8622166666666666, loss: 0.39262440344270694\n",
      "3300th iter... test_acc: 0.8589, train_acc: 0.8639666666666667, loss: 0.3166682435013192\n",
      "3400th iter... test_acc: 0.8588, train_acc: 0.8640666666666666, loss: 0.4307795111521392\n",
      "3500th iter... test_acc: 0.8585, train_acc: 0.8637, loss: 0.40043892921469465\n",
      "3600th iter... test_acc: 0.8593, train_acc: 0.8650833333333333, loss: 0.29457201736726146\n",
      "3700th iter... test_acc: 0.8613, train_acc: 0.8658166666666667, loss: 0.3684464292322701\n",
      "3800th iter... test_acc: 0.861, train_acc: 0.8663833333333333, loss: 0.3070327406565978\n",
      "3900th iter... test_acc: 0.861, train_acc: 0.8677166666666667, loss: 0.15130235357969432\n",
      "4000th iter... test_acc: 0.8634, train_acc: 0.8685833333333334, loss: 0.3213693019149726\n",
      "4100th iter... test_acc: 0.8619, train_acc: 0.86815, loss: 0.14815120087354064\n",
      "4200th iter... test_acc: 0.8609, train_acc: 0.8682, loss: 0.3630449170917172\n",
      "4300th iter... test_acc: 0.9526, train_acc: 0.9546, loss: 0.13432167877459317\n",
      "4400th iter... test_acc: 0.953, train_acc: 0.9548833333333333, loss: 0.1366229631589854\n",
      "4500th iter... test_acc: 0.9521, train_acc: 0.95705, loss: 0.06205485797616112\n",
      "4600th iter... test_acc: 0.9518, train_acc: 0.9570333333333333, loss: 0.06423166628289914\n",
      "4700th iter... test_acc: 0.9531, train_acc: 0.9581, loss: 0.07710811958189003\n",
      "4800th iter... test_acc: 0.9534, train_acc: 0.9590833333333333, loss: 0.1898237092389183\n",
      "4900th iter... test_acc: 0.9559, train_acc: 0.95985, loss: 0.047997139167833325\n",
      "5000th iter... test_acc: 0.9551, train_acc: 0.9606333333333333, loss: 0.19528117865513642\n",
      "5100th iter... test_acc: 0.9562, train_acc: 0.9606, loss: 0.0805254121507435\n",
      "5200th iter... test_acc: 0.9556, train_acc: 0.9604333333333334, loss: 0.13266868552069058\n",
      "5300th iter... test_acc: 0.954, train_acc: 0.96085, loss: 0.1368622568923044\n",
      "5400th iter... test_acc: 0.9559, train_acc: 0.96255, loss: 0.18455329417721025\n",
      "5500th iter... test_acc: 0.9572, train_acc: 0.9628833333333333, loss: 0.1378094577309079\n",
      "5600th iter... test_acc: 0.9577, train_acc: 0.96385, loss: 0.067585968644827\n",
      "5700th iter... test_acc: 0.9574, train_acc: 0.9639, loss: 0.06666303609729184\n",
      "5800th iter... test_acc: 0.959, train_acc: 0.9632333333333334, loss: 0.09015292214228157\n",
      "5900th iter... test_acc: 0.9586, train_acc: 0.9648333333333333, loss: 0.09415487435215698\n",
      "6000th iter... test_acc: 0.9598, train_acc: 0.9659833333333333, loss: 0.04997528031053372\n",
      "6100th iter... test_acc: 0.9607, train_acc: 0.9655, loss: 0.09363826629235193\n",
      "6200th iter... test_acc: 0.9611, train_acc: 0.9666, loss: 0.06188219360924266\n",
      "6300th iter... test_acc: 0.9612, train_acc: 0.9673, loss: 0.12385368798797007\n",
      "6400th iter... test_acc: 0.9605, train_acc: 0.9659333333333333, loss: 0.06763448037597392\n",
      "6500th iter... test_acc: 0.9619, train_acc: 0.9666833333333333, loss: 0.059967050482396186\n",
      "6600th iter... test_acc: 0.963, train_acc: 0.96825, loss: 0.14052189486495426\n",
      "6700th iter... test_acc: 0.9629, train_acc: 0.9683166666666667, loss: 0.19160368122676807\n",
      "6800th iter... test_acc: 0.9621, train_acc: 0.9684833333333334, loss: 0.04712651087758893\n",
      "6900th iter... test_acc: 0.9595, train_acc: 0.9681166666666666, loss: 0.18052872556319202\n",
      "7000th iter... test_acc: 0.9634, train_acc: 0.9695833333333334, loss: 0.15205124858352317\n",
      "7100th iter... test_acc: 0.9615, train_acc: 0.9692, loss: 0.04639137226112349\n",
      "7200th iter... test_acc: 0.9622, train_acc: 0.9703, loss: 0.03424550277967835\n",
      "7300th iter... test_acc: 0.9623, train_acc: 0.97, loss: 0.09825275249710216\n",
      "7400th iter... test_acc: 0.9621, train_acc: 0.9701666666666666, loss: 0.1143218722032609\n",
      "7500th iter... test_acc: 0.9628, train_acc: 0.9709666666666666, loss: 0.08017323076738853\n",
      "7600th iter... test_acc: 0.9621, train_acc: 0.9704, loss: 0.17945329952850053\n",
      "7700th iter... test_acc: 0.9638, train_acc: 0.9713666666666667, loss: 0.05384816906149494\n",
      "7800th iter... test_acc: 0.963, train_acc: 0.9712333333333333, loss: 0.04957823025681676\n",
      "7900th iter... test_acc: 0.9628, train_acc: 0.9712666666666666, loss: 0.058666724673401546\n",
      "8000th iter... test_acc: 0.9633, train_acc: 0.9713833333333334, loss: 0.09745551183361258\n",
      "8100th iter... test_acc: 0.9633, train_acc: 0.9716333333333333, loss: 0.05759228953585762\n",
      "8200th iter... test_acc: 0.9628, train_acc: 0.97045, loss: 0.04537556351756242\n",
      "8300th iter... test_acc: 0.9643, train_acc: 0.9720166666666666, loss: 0.09142618191101116\n",
      "8400th iter... test_acc: 0.9639, train_acc: 0.9725, loss: 0.027214687329269713\n",
      "8500th iter... test_acc: 0.9641, train_acc: 0.9732333333333333, loss: 0.060643898630478796\n",
      "8600th iter... test_acc: 0.9647, train_acc: 0.9734166666666667, loss: 0.1421303035419721\n",
      "8700th iter... test_acc: 0.9654, train_acc: 0.9740333333333333, loss: 0.05457705895741512\n",
      "8800th iter... test_acc: 0.9652, train_acc: 0.9741666666666666, loss: 0.08038848579368382\n",
      "8900th iter... test_acc: 0.9643, train_acc: 0.9732166666666666, loss: 0.053252957638169465\n",
      "9000th iter... test_acc: 0.9664, train_acc: 0.9737833333333333, loss: 0.023808170185345992\n",
      "9100th iter... test_acc: 0.9666, train_acc: 0.9746833333333333, loss: 0.08031844238959227\n",
      "9200th iter... test_acc: 0.9665, train_acc: 0.9754333333333334, loss: 0.02499889493580544\n",
      "9300th iter... test_acc: 0.9659, train_acc: 0.9756166666666667, loss: 0.0877642971157114\n",
      "9400th iter... test_acc: 0.9667, train_acc: 0.9760333333333333, loss: 0.09389740427736185\n",
      "9500th iter... test_acc: 0.9671, train_acc: 0.97685, loss: 0.059109806566820564\n"
     ]
    },
    {
     "name": "stdout",
     "output_type": "stream",
     "text": [
      "9600th iter... test_acc: 0.9669, train_acc: 0.9753, loss: 0.02881111602531049\n",
      "9700th iter... test_acc: 0.9658, train_acc: 0.9763833333333334, loss: 0.04168306732947169\n",
      "9800th iter... test_acc: 0.9662, train_acc: 0.9766666666666667, loss: 0.056980878014705416\n",
      "9900th iter... test_acc: 0.9665, train_acc: 0.97645, loss: 0.06154268307639842\n"
     ]
    }
   ],
   "source": [
    "net = TwoLayerNet(input_size=784, hidden_size=50, output_size=10)\n",
    "\n",
    "train_loss_list = []\n",
    "train_acc_list = []\n",
    "test_acc_list = []\n",
    "\n",
    "point_count = 0\n",
    "\n",
    "for i in range(iters_num):\n",
    "    batch_mask = np.random.choice(train_size, batch_size)\n",
    "    x_batch = x_train[batch_mask]\n",
    "    t_batch = t_train[batch_mask]\n",
    "        \n",
    "    grad = net.gradient(x_batch, t_batch)\n",
    "    \n",
    "    net.params['W1'] -= learning_rate * grad['W1']\n",
    "    net.params['b1'] -= learning_rate * grad['b1']\n",
    "    net.params['W2'] -= learning_rate * grad['W2']\n",
    "    net.params['b2'] -= learning_rate * grad['b2']\n",
    "    \n",
    "    loss = net.loss(x_batch, t_batch)\n",
    "    train_loss_list.append(loss)\n",
    "    \n",
    "    if i % 100 == 0:\n",
    "        point_count += 1\n",
    "        \n",
    "        train_acc = net.accuracy(x_train, t_train)\n",
    "        test_acc = net.accuracy(x_test, t_test)\n",
    "        \n",
    "        train_acc_list.append(train_acc)\n",
    "        test_acc_list.append(test_acc)\n",
    "        \n",
    "        print(f\"{i}th iter... test_acc: {test_acc}, train_acc: {train_acc}, loss: {loss}\")"
   ]
  },
  {
   "cell_type": "code",
   "execution_count": 12,
   "id": "80e3aae0",
   "metadata": {},
   "outputs": [
    {
     "data": {
      "image/png": "[encoded data removed]",
      "text/plain": [
       "<Figure size 640x480 with 1 Axes>"
      ]
     },
     "metadata": {},
     "output_type": "display_data"
    }
   ],
   "source": [
    "import matplotlib.pyplot as plt\n",
    "\n",
    "plt.plot(np.arange(point_count), train_acc_list)\n",
    "plt.plot(np.arange(point_count), test_acc_list)\n",
    "plt.show()"
   ]
  },
  {
   "cell_type": "code",
   "execution_count": 13,
   "id": "f7aed0c0",
   "metadata": {},
   "outputs": [
    {
     "data": {
      "image/png": "[encoded data removed]",
      "text/plain": [
       "<Figure size 640x480 with 1 Axes>"
      ]
     },
     "metadata": {},
     "output_type": "display_data"
    }
   ],
   "source": [
    "plt.plot(np.arange(iters_num), train_loss_list)\n",
    "plt.show()"
   ]
  },
  {
   "cell_type": "code",
   "execution_count": null,
   "id": "422087d2",
   "metadata": {},
   "outputs": [],
   "source": []
  }
 ],
 "metadata": {
  "kernelspec": {
   "display_name": "ml_venv",
   "language": "python",
   "name": "venv"
  },
  "language_info": {
   "codemirror_mode": {
    "name": "ipython",
    "version": 3
   },
   "file_extension": ".py",
   "mimetype": "text/x-python",
   "name": "python",
   "nbconvert_exporter": "python",
   "pygments_lexer": "ipython3",
   "version": "3.10.5"
  }
 },
 "nbformat": 4,
 "nbformat_minor": 5
}
