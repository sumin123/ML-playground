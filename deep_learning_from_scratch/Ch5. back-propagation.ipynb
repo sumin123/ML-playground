{
 "cells": [
  {
   "cell_type": "markdown",
   "id": "5c16c67a",
   "metadata": {},
   "source": [
    "# Ch5. back propagation"
   ]
  },
  {
   "cell_type": "markdown",
   "id": "3ba95901",
   "metadata": {},
   "source": [
    "이번장에서는 해석적인 방법으로 network를 학습시켜보자"
   ]
  },
  {
   "cell_type": "code",
   "execution_count": 117,
   "id": "96db0b63",
   "metadata": {},
   "outputs": [],
   "source": [
    "import numpy as np"
   ]
  },
  {
   "cell_type": "code",
   "execution_count": 86,
   "id": "e74b8f3d",
   "metadata": {},
   "outputs": [],
   "source": [
    "def cross_entropy_error_one_hot(y, t):\n",
    "    if y.ndim == 1:\n",
    "        t = t.reshape(1, t.size)\n",
    "        y = y.reshape(1, y.size)\n",
    "        \n",
    "    batch_size = y.shape[0]\n",
    "    return -np.sum(t * np.log(y)) / batch_size"
   ]
  },
  {
   "cell_type": "code",
   "execution_count": 152,
   "id": "443be2c6",
   "metadata": {},
   "outputs": [],
   "source": [
    "def _numerical_grad(f, x):\n",
    "    h = 1e-4\n",
    "    grad = np.zeros(x.size)\n",
    "\n",
    "    for dim in range(x.size):\n",
    "        temp = x[dim]\n",
    "\n",
    "        x[dim] = temp - h\n",
    "        f1 = f(x)\n",
    "\n",
    "        x[dim] = temp + h\n",
    "        f2 = f(x)\n",
    "\n",
    "        grad[dim] = (f2 - f1) / (2 * h)\n",
    "\n",
    "    return grad\n",
    "\n",
    "def numerical_gradient_batch(f, X):\n",
    "    if X.ndim == 1:\n",
    "        return _numerical_grad(f, X)\n",
    "\n",
    "    grad = np.zeros_like(X)\n",
    "    for idx in range(X.shape[0]):\n",
    "        grad[idx] = _numerical_grad(f, X[idx])\n",
    "\n",
    "    return grad\n",
    "\n",
    "\n",
    "def numerical_gradient_batch_v2(f, X):\n",
    "    h = 1e-4\n",
    "    if X.ndim == 1:\n",
    "        return _numerical_grad(f, X)\n",
    "\n",
    "    grad = np.zeros_like(X)\n",
    "    for col in range(X.shape[1]):\n",
    "        H = np.zeros_like(X)\n",
    "        H[:, col] += h\n",
    "\n",
    "        f1 = f(X - H)\n",
    "        f2 = f(X + H)\n",
    "\n",
    "        grad[:, col] = (f2 - f1) / (2 * h)\n",
    "\n",
    "    return grad\n"
   ]
  },
  {
   "cell_type": "code",
   "execution_count": 127,
   "id": "becf87fa",
   "metadata": {},
   "outputs": [],
   "source": [
    "def sigmoid(x):\n",
    "    return 1 / (1 + np.exp(-x))\n",
    "\n",
    "def softmax(a):\n",
    "    c = np.max(a) # overflow 방지\n",
    "    exp_a = np.exp(a - c)\n",
    "    sum_exp_a = np.sum(exp_a)\n",
    "    y = exp_a / sum_exp_a\n",
    "    \n",
    "    return y"
   ]
  },
  {
   "cell_type": "markdown",
   "id": "f8c1ef87",
   "metadata": {},
   "source": [
    "### softmax-with-loss 함수 구현"
   ]
  },
  {
   "cell_type": "code",
   "execution_count": 128,
   "id": "fb87de67",
   "metadata": {},
   "outputs": [],
   "source": [
    "class ReLU:\n",
    "    def __init__(self):\n",
    "        self.mask = None\n",
    "        \n",
    "    def forward(self, x):\n",
    "        self.mask = (x <= 0)\n",
    "        out = x.copy()\n",
    "        out[self.mask] = 0\n",
    "        \n",
    "        return out\n",
    "    \n",
    "    def backward(self, dout):\n",
    "        dout[self.mask] = 0\n",
    "        dx = dout\n",
    "\n",
    "        return dx"
   ]
  },
  {
   "cell_type": "code",
   "execution_count": 129,
   "id": "ed00538c",
   "metadata": {},
   "outputs": [],
   "source": [
    "class Affine:\n",
    "    def __init__(self, W, b):\n",
    "        self.W = W\n",
    "        self.b = b\n",
    "        self.x = None\n",
    "        self.dW = None\n",
    "        self.db = None\n",
    "        \n",
    "    def forward(self, x):\n",
    "        self.x = x\n",
    "        return np.dot(self.x, self.W) + self.b\n",
    "    \n",
    "    def backward(self, dout):        \n",
    "        self.dW = np.dot(self.x.T, dout)\n",
    "        self.db = np.sum(dout, axis=0)\n",
    "        dx = np.dot(dout, self.W.T)\n",
    "        \n",
    "        return dx"
   ]
  },
  {
   "cell_type": "code",
   "execution_count": 130,
   "id": "5e15fd98",
   "metadata": {},
   "outputs": [],
   "source": [
    "class SoftmaxWithLoss:\n",
    "    def __init__(self):\n",
    "        self.loss = None\n",
    "        self.y = None\n",
    "        self.t = None\n",
    "        \n",
    "    def forward(self, x, t):\n",
    "        self.t = t\n",
    "        self.y = softmax(x)\n",
    "        self.loss = cross_entropy_error_one_hot(self.y, t)\n",
    "        \n",
    "        return self.loss\n",
    "    \n",
    "    def backward(self, dout=1):\n",
    "        batch_size = self.t.shape[0]\n",
    "        dx = (self.y - self.t) / batch_size\n",
    "        \n",
    "        return dx"
   ]
  },
  {
   "cell_type": "code",
   "execution_count": 153,
   "id": "4569826c",
   "metadata": {},
   "outputs": [],
   "source": [
    "from collections import OrderedDict\n",
    "\n",
    "class TwoLayerNet:\n",
    "    def __init__(self, input_size, hidden_size, output_size, weight_init_std=0.1):\n",
    "        self.params = {}\n",
    "        self.params['W1'] = weight_init_std * np.random.randn(input_size, hidden_size)\n",
    "        self.params['W2'] = weight_init_std * np.random.randn(hidden_size, output_size)\n",
    "        \n",
    "        self.params['b1'] = np.zeros(hidden_size)\n",
    "        self.params['b2'] = np.zeros(output_size)\n",
    "        \n",
    "        self.layers = OrderedDict()\n",
    "        self.layers['Affine1'] = Affine(self.params['W1'], self.params['b1'])\n",
    "        self.layers['Relu1'] = ReLU()\n",
    "        self.layers['Affine2'] = Affine(self.params['W2'], self.params['b2'])\n",
    "        self.layers['Relu2'] = ReLU()\n",
    "        \n",
    "        self.last_layer = SoftmaxWithLoss()\n",
    "        \n",
    "    def predict(self, x):\n",
    "        for layer in self.layers.values():\n",
    "            x = layer.forward(x)\n",
    "        \n",
    "        return x\n",
    "        \n",
    "    \n",
    "    def loss(self, x, t):\n",
    "        y = self.predict(x)\n",
    "        \n",
    "        return self.last_layer.forward(y, t)\n",
    "    \n",
    "    def accuracy(self, x, t):\n",
    "        y = self.predict(x)\n",
    "        y = np.argmax(y, axis=1)\n",
    "        t = np.argmax(t, axis=1)\n",
    "        \n",
    "        accuracy = np.sum(y==t) / float(x.shape[0])\n",
    "        return accuracy\n",
    "    \n",
    "    def numerical_gradient(self, x, t):\n",
    "        loss_W = lambda W: self.loss(x, t)\n",
    "        \n",
    "        grads = {}\n",
    "        grads['W1'] = numerical_gradient_batch(loss_W, self.params['W1'])\n",
    "        grads['b1'] = numerical_gradient_batch(loss_W, self.params['b1'])\n",
    "        grads['W2'] = numerical_gradient_batch(loss_W, self.params['W2'])\n",
    "        grads['b2'] = numerical_gradient_batch(loss_W, self.params['b2'])\n",
    "        \n",
    "        return grads\n",
    "    \n",
    "    def gradient(self, x, t):\n",
    "        self.loss(x, t)\n",
    "        \n",
    "        dout = 1\n",
    "        dout = self.last_layer.backward(dout)\n",
    "        \n",
    "        layers = list(self.layers.values())\n",
    "        layers.reverse()\n",
    "        for layer in layers:\n",
    "            dout = layer.backward(dout)\n",
    "            \n",
    "        grads = {}\n",
    "        grads['W1'] = self.layers['Affine1'].dW\n",
    "        grads['b1'] = self.layers['Affine1'].db\n",
    "        grads['W2'] = self.layers['Affine2'].dW\n",
    "        grads['b2'] = self.layers['Affine2'].db\n",
    "        \n",
    "        return grads"
   ]
  },
  {
   "cell_type": "code",
   "execution_count": 112,
   "id": "7b7ee297",
   "metadata": {},
   "outputs": [],
   "source": [
    "from dataset.mnist import load_mnist\n",
    "(x_train, t_train), (x_test, t_test) = load_mnist(normalize=True, one_hot_label=True)"
   ]
  },
  {
   "cell_type": "code",
   "execution_count": 136,
   "id": "b51ef17e",
   "metadata": {},
   "outputs": [],
   "source": [
    "iters_num=10000\n",
    "train_size = x_train.shape[0]\n",
    "batch_size = 100\n",
    "learning_rate = 0.01"
   ]
  },
  {
   "cell_type": "code",
   "execution_count": 157,
   "id": "39e33632",
   "metadata": {},
   "outputs": [
    {
     "name": "stdout",
     "output_type": "stream",
     "text": [
      "0th iter... test_acc: 0.0559, train_acc: 0.060333333333333336, loss: 6.972066637502216\n",
      "100th iter... test_acc: 0.2192, train_acc: 0.22053333333333333, loss: 8.952323715161102\n",
      "200th iter... test_acc: 0.1861, train_acc: 0.18643333333333334, loss: 117.07823080074753\n"
     ]
    },
    {
     "name": "stderr",
     "output_type": "stream",
     "text": [
      "/var/folders/n5/n0b0brnd4cbb63xdqf_rmhvh0000gn/T/ipykernel_17146/1908689404.py:7: RuntimeWarning: divide by zero encountered in log\n",
      "  return -np.sum(t * np.log(y)) / batch_size\n",
      "/var/folders/n5/n0b0brnd4cbb63xdqf_rmhvh0000gn/T/ipykernel_17146/1908689404.py:7: RuntimeWarning: invalid value encountered in multiply\n",
      "  return -np.sum(t * np.log(y)) / batch_size\n"
     ]
    },
    {
     "name": "stdout",
     "output_type": "stream",
     "text": [
      "300th iter... test_acc: 0.0974, train_acc: 0.09751666666666667, loss: nan\n",
      "400th iter... test_acc: 0.098, train_acc: 0.09871666666666666, loss: nan\n",
      "500th iter... test_acc: 0.0974, train_acc: 0.09751666666666667, loss: nan\n",
      "600th iter... test_acc: 0.098, train_acc: 0.09871666666666666, loss: nan\n"
     ]
    },
    {
     "ename": "KeyboardInterrupt",
     "evalue": "",
     "output_type": "error",
     "traceback": [
      "\u001b[0;31m---------------------------------------------------------------------------\u001b[0m",
      "\u001b[0;31mKeyboardInterrupt\u001b[0m                         Traceback (most recent call last)",
      "Cell \u001b[0;32mIn[157], line 28\u001b[0m\n\u001b[1;32m     25\u001b[0m point_count \u001b[38;5;241m+\u001b[39m\u001b[38;5;241m=\u001b[39m \u001b[38;5;241m1\u001b[39m\n\u001b[1;32m     27\u001b[0m train_acc \u001b[38;5;241m=\u001b[39m net\u001b[38;5;241m.\u001b[39maccuracy(x_train, t_train)\n\u001b[0;32m---> 28\u001b[0m test_acc \u001b[38;5;241m=\u001b[39m \u001b[43mnet\u001b[49m\u001b[38;5;241;43m.\u001b[39;49m\u001b[43maccuracy\u001b[49m\u001b[43m(\u001b[49m\u001b[43mx_test\u001b[49m\u001b[43m,\u001b[49m\u001b[43m \u001b[49m\u001b[43mt_test\u001b[49m\u001b[43m)\u001b[49m\n\u001b[1;32m     30\u001b[0m train_acc_list\u001b[38;5;241m.\u001b[39mappend(train_acc)\n\u001b[1;32m     31\u001b[0m test_acc_list\u001b[38;5;241m.\u001b[39mappend(test_acc)\n",
      "Cell \u001b[0;32mIn[153], line 33\u001b[0m, in \u001b[0;36mTwoLayerNet.accuracy\u001b[0;34m(self, x, t)\u001b[0m\n\u001b[1;32m     32\u001b[0m \u001b[38;5;28;01mdef\u001b[39;00m \u001b[38;5;21maccuracy\u001b[39m(\u001b[38;5;28mself\u001b[39m, x, t):\n\u001b[0;32m---> 33\u001b[0m     y \u001b[38;5;241m=\u001b[39m \u001b[38;5;28;43mself\u001b[39;49m\u001b[38;5;241;43m.\u001b[39;49m\u001b[43mpredict\u001b[49m\u001b[43m(\u001b[49m\u001b[43mx\u001b[49m\u001b[43m)\u001b[49m\n\u001b[1;32m     34\u001b[0m     y \u001b[38;5;241m=\u001b[39m np\u001b[38;5;241m.\u001b[39margmax(y, axis\u001b[38;5;241m=\u001b[39m\u001b[38;5;241m1\u001b[39m)\n\u001b[1;32m     35\u001b[0m     t \u001b[38;5;241m=\u001b[39m np\u001b[38;5;241m.\u001b[39margmax(t, axis\u001b[38;5;241m=\u001b[39m\u001b[38;5;241m1\u001b[39m)\n",
      "Cell \u001b[0;32mIn[153], line 22\u001b[0m, in \u001b[0;36mTwoLayerNet.predict\u001b[0;34m(self, x)\u001b[0m\n\u001b[1;32m     20\u001b[0m \u001b[38;5;28;01mdef\u001b[39;00m \u001b[38;5;21mpredict\u001b[39m(\u001b[38;5;28mself\u001b[39m, x):\n\u001b[1;32m     21\u001b[0m     \u001b[38;5;28;01mfor\u001b[39;00m layer \u001b[38;5;129;01min\u001b[39;00m \u001b[38;5;28mself\u001b[39m\u001b[38;5;241m.\u001b[39mlayers\u001b[38;5;241m.\u001b[39mvalues():\n\u001b[0;32m---> 22\u001b[0m         x \u001b[38;5;241m=\u001b[39m \u001b[43mlayer\u001b[49m\u001b[38;5;241;43m.\u001b[39;49m\u001b[43mforward\u001b[49m\u001b[43m(\u001b[49m\u001b[43mx\u001b[49m\u001b[43m)\u001b[49m\n\u001b[1;32m     24\u001b[0m     \u001b[38;5;28;01mreturn\u001b[39;00m x\n",
      "Cell \u001b[0;32mIn[129], line 11\u001b[0m, in \u001b[0;36mAffine.forward\u001b[0;34m(self, x)\u001b[0m\n\u001b[1;32m      9\u001b[0m \u001b[38;5;28;01mdef\u001b[39;00m \u001b[38;5;21mforward\u001b[39m(\u001b[38;5;28mself\u001b[39m, x):\n\u001b[1;32m     10\u001b[0m     \u001b[38;5;28mself\u001b[39m\u001b[38;5;241m.\u001b[39mx \u001b[38;5;241m=\u001b[39m x\n\u001b[0;32m---> 11\u001b[0m     \u001b[38;5;28;01mreturn\u001b[39;00m \u001b[43mnp\u001b[49m\u001b[38;5;241;43m.\u001b[39;49m\u001b[43mdot\u001b[49m\u001b[43m(\u001b[49m\u001b[38;5;28;43mself\u001b[39;49m\u001b[38;5;241;43m.\u001b[39;49m\u001b[43mx\u001b[49m\u001b[43m,\u001b[49m\u001b[43m \u001b[49m\u001b[38;5;28;43mself\u001b[39;49m\u001b[38;5;241;43m.\u001b[39;49m\u001b[43mW\u001b[49m\u001b[43m)\u001b[49m \u001b[38;5;241m+\u001b[39m \u001b[38;5;28mself\u001b[39m\u001b[38;5;241m.\u001b[39mb\n",
      "\u001b[0;31mKeyboardInterrupt\u001b[0m: "
     ]
    }
   ],
   "source": [
    "net = TwoLayerNet(input_size=784, hidden_size=50, output_size=10)\n",
    "\n",
    "train_loss_list = []\n",
    "train_acc_list = []\n",
    "test_acc_list = []\n",
    "\n",
    "point_count = 0\n",
    "\n",
    "for i in range(iters_num):\n",
    "    batch_mask = np.random.choice(train_size, batch_size)\n",
    "    x_batch = x_train[batch_mask]\n",
    "    t_batch = t_train[batch_mask]\n",
    "        \n",
    "    grad = net.gradient(x_batch, t_batch)\n",
    "    \n",
    "    net.params['W1'] -= learning_rate * grad['W1']\n",
    "    net.params['b1'] -= learning_rate * grad['b1']\n",
    "    net.params['W2'] -= learning_rate * grad['W2']\n",
    "    net.params['b2'] -= learning_rate * grad['b2']\n",
    "    \n",
    "    loss = net.loss(x_batch, t_batch)\n",
    "    train_loss_list.append(loss)\n",
    "    \n",
    "    if i % 100 == 0:\n",
    "        point_count += 1\n",
    "        \n",
    "        train_acc = net.accuracy(x_train, t_train)\n",
    "        test_acc = net.accuracy(x_test, t_test)\n",
    "        \n",
    "        train_acc_list.append(train_acc)\n",
    "        test_acc_list.append(test_acc)\n",
    "        \n",
    "        print(f\"{i}th iter... test_acc: {test_acc}, train_acc: {train_acc}, loss: {loss}\")"
   ]
  },
  {
   "cell_type": "code",
   "execution_count": 156,
   "id": "e7a7b318",
   "metadata": {},
   "outputs": [
    {
     "name": "stdout",
     "output_type": "stream",
     "text": [
      "W1\n",
      "0.003196811894494716\n",
      "0.0033592211981492543\n",
      "key: W1, diff: 0.0010888503783637704\n",
      "\n",
      "b1\n",
      "0.021327155944766592\n",
      "0.023130536703197535\n",
      "key: b1, diff: 0.008022261092226358\n",
      "\n",
      "W2\n",
      "0.026928771733088303\n",
      "0.03654676018945757\n",
      "key: W2, diff: 0.015991280841884076\n",
      "\n",
      "b2\n",
      "0.0794159059734475\n",
      "0.10491142127189157\n",
      "key: b2, diff: 0.04808846432309305\n",
      "\n"
     ]
    }
   ],
   "source": [
    "x_batch = x_train[:3]\n",
    "t_batch = t_train[:3]\n",
    "\n",
    "grad_numerical = net.numerical_gradient(x_batch, t_batch)\n",
    "grad = net.gradient(x_batch, t_batch)\n",
    "\n",
    "for key in grad_numerical.keys():\n",
    "    print(key)\n",
    "    print(np.average(np.abs(grad[key])))\n",
    "    print(np.average(np.abs(grad_numerical[key])))\n",
    "    print(f\"key: {key}, diff: {np.average(np.abs(grad_numerical[key] - grad[key]))}\")\n",
    "    print()"
   ]
  },
  {
   "cell_type": "code",
   "execution_count": null,
   "id": "cf705968",
   "metadata": {},
   "outputs": [],
   "source": []
  }
 ],
 "metadata": {
  "kernelspec": {
   "display_name": "ml_venv",
   "language": "python",
   "name": "venv"
  },
  "language_info": {
   "codemirror_mode": {
    "name": "ipython",
    "version": 3
   },
   "file_extension": ".py",
   "mimetype": "text/x-python",
   "name": "python",
   "nbconvert_exporter": "python",
   "pygments_lexer": "ipython3",
   "version": "3.10.5"
  }
 },
 "nbformat": 4,
 "nbformat_minor": 5
}
