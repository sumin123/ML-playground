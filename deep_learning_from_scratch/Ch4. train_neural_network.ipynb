{
 "cells": [
  {
   "cell_type": "markdown",
   "id": "ba02bf20263cedaf",
   "metadata": {},
   "source": [
    "# 신경망 학습\n",
    "이번 장에서는 미분을 수치적으로 계산하는 신경망을 구성해본다. (매우 느리다)\n",
    "\n",
    "## 1 손실함수\n",
    "손실함수는 신경망이 학습을 하는 지표로 MSE, cross-entropy 등이 있다.\n",
    "\n",
    "### 1.1 MSE"
   ]
  },
  {
   "cell_type": "code",
   "execution_count": 1,
   "id": "a3448598303d7efe",
   "metadata": {
    "ExecuteTime": {
     "end_time": "2023-09-17T02:17:05.557948Z",
     "start_time": "2023-09-17T02:17:05.345364Z"
    }
   },
   "outputs": [],
   "source": [
    "import numpy as np"
   ]
  },
  {
   "cell_type": "code",
   "execution_count": 2,
   "id": "e238ea1925498616",
   "metadata": {
    "ExecuteTime": {
     "end_time": "2023-09-17T02:17:05.558651Z",
     "start_time": "2023-09-17T02:17:05.537231Z"
    }
   },
   "outputs": [],
   "source": [
    "def mean_squred_error(y, t):\n",
    "\treturn 0.5 * np.sum((y-t)**2)"
   ]
  },
  {
   "cell_type": "code",
   "execution_count": 3,
   "id": "5b3de2251190a0fa",
   "metadata": {
    "ExecuteTime": {
     "end_time": "2023-09-17T02:17:05.559005Z",
     "start_time": "2023-09-17T02:17:05.539676Z"
    }
   },
   "outputs": [
    {
     "name": "stdout",
     "output_type": "stream",
     "text": [
      "0.10750000000000003\n"
     ]
    }
   ],
   "source": [
    "t = [0, 0, 1, 0, 0]\n",
    "y = [0.1, 0.05, 0.6, 0.05, 0.2]\n",
    "\n",
    "print(mean_squred_error(np.array(y), np.array(t)))"
   ]
  },
  {
   "cell_type": "markdown",
   "id": "57b42110e00e9b73",
   "metadata": {},
   "source": [
    "### 1.2 cross entropy error"
   ]
  },
  {
   "cell_type": "code",
   "execution_count": 4,
   "id": "27e901a4c20e2781",
   "metadata": {
    "ExecuteTime": {
     "end_time": "2023-09-17T02:17:07.166827Z",
     "start_time": "2023-09-17T02:17:07.161592Z"
    }
   },
   "outputs": [],
   "source": [
    "def cross_entropy_error(y, t):\n",
    "\tdelta = 1e-7\n",
    "\treturn -np.sum(t * np.log(y + delta))"
   ]
  },
  {
   "cell_type": "code",
   "execution_count": 5,
   "id": "7098a93faa33d9e1",
   "metadata": {
    "ExecuteTime": {
     "end_time": "2023-09-17T02:17:07.623626Z",
     "start_time": "2023-09-17T02:17:07.618608Z"
    }
   },
   "outputs": [
    {
     "name": "stdout",
     "output_type": "stream",
     "text": [
      "0.510825457099338\n"
     ]
    }
   ],
   "source": [
    "t = [0, 0, 1, 0, 0, 0, 0, 0]\n",
    "y = [0.1, 0.05, 0.6, 0, 0.1, 0.05, 0, 0.1]\n",
    "\n",
    "print(cross_entropy_error(np.array(y), np.array(t)))"
   ]
  },
  {
   "cell_type": "markdown",
   "id": "efae164d31a6168c",
   "metadata": {},
   "source": [
    "### 1.3 mini batch\n",
    "배치 단위로 학습을 할 때는 모든 데이터에 대한 평균 손실 함수를 사용하면 이상적일 것이다.\n",
    "하지만 데이터의 사이즈가 너무 커지면 이는 현실적이지 않다. 따라서 일부 데이터를 샘플링하여 샘플에 대한 손실 함수를 이용하여 학습한다. 이 샘플을 mini batch라고 부른다.\n",
    " "
   ]
  },
  {
   "cell_type": "code",
   "execution_count": 6,
   "id": "fbe78cd8677c1b1a",
   "metadata": {
    "ExecuteTime": {
     "end_time": "2023-09-17T02:17:08.587148Z",
     "start_time": "2023-09-17T02:17:08.531530Z"
    }
   },
   "outputs": [
    {
     "name": "stdout",
     "output_type": "stream",
     "text": [
      "(60000, 784)\n",
      "(60000, 10)\n"
     ]
    }
   ],
   "source": [
    "import sys, os\n",
    "sys.path.append(os.curdir)\n",
    "import numpy as np\n",
    "from dataset.mnist import load_mnist\n",
    "\n",
    "(x_train, t_train), (x_test, t_test) = load_mnist(normalize=True, one_hot_label=True)\n",
    "print(x_train.shape)\n",
    "print(t_train.shape)"
   ]
  },
  {
   "cell_type": "code",
   "execution_count": 7,
   "id": "91333eba",
   "metadata": {
    "ExecuteTime": {
     "end_time": "2023-09-17T02:17:09.019924Z",
     "start_time": "2023-09-17T02:17:09.016315Z"
    }
   },
   "outputs": [],
   "source": [
    "train_size = x_train.shape[0]\n",
    "batch_size = 10\n",
    "batch_mask = np.random.choice(train_size, batch_size)\n",
    "\n",
    "x_batch = x_train[batch_mask]\n",
    "t_batch = t_train[batch_mask]"
   ]
  },
  {
   "cell_type": "code",
   "execution_count": 8,
   "id": "be1f71f1",
   "metadata": {
    "ExecuteTime": {
     "end_time": "2023-09-17T02:17:09.463112Z",
     "start_time": "2023-09-17T02:17:09.460945Z"
    }
   },
   "outputs": [],
   "source": [
    "def cross_entropy_error_one_hot(y, t):\n",
    "    if y.ndim == 1:\n",
    "        t = t.reshape(1, t.size)\n",
    "        y = y.reshape(1, y.size)\n",
    "        \n",
    "    batch_size = y.shape[0]\n",
    "    return -np.sum(t * np.log(y)) / batch_size"
   ]
  },
  {
   "cell_type": "markdown",
   "id": "38724b87",
   "metadata": {},
   "source": [
    "다음은 정답이 one-hot encoding이 되어있지 않은 경우의 cross-entropy이다."
   ]
  },
  {
   "cell_type": "code",
   "execution_count": 9,
   "id": "1a70af95",
   "metadata": {
    "ExecuteTime": {
     "end_time": "2023-09-17T02:17:10.437685Z",
     "start_time": "2023-09-17T02:17:10.430147Z"
    }
   },
   "outputs": [],
   "source": [
    "def cross_entropy_error(y, t):\n",
    "    if y.ndim == 1:\n",
    "        t = t.reshape(1, t.size)\n",
    "        y = y.reshape(1, y.size)\n",
    "        \n",
    "    batch_size = y.shape[0]\n",
    "    return -np.sum(np.log(y[np.arange(batch_size), t])) / batch_size"
   ]
  },
  {
   "cell_type": "markdown",
   "id": "2005bb0f",
   "metadata": {},
   "source": [
    "정확도가 아니라 손실 함수를 학습에 사용하는 이유는 정확도는 작은 변화에 반응이 거의 없어 미분 값이 0이기 때문이다."
   ]
  },
  {
   "cell_type": "markdown",
   "id": "6a7a3047",
   "metadata": {},
   "source": [
    "## 2. 신경망 구현하기\n",
    "### 2.1 편미분 구현"
   ]
  },
  {
   "cell_type": "code",
   "execution_count": 10,
   "id": "cc75d5aa",
   "metadata": {},
   "outputs": [],
   "source": [
    "def ex_function(x):\n",
    "    return x[0] ** 2 + x[1] ** 2"
   ]
  },
  {
   "cell_type": "code",
   "execution_count": 11,
   "id": "37050c53",
   "metadata": {},
   "outputs": [],
   "source": [
    "def ex_func_batch(x):\n",
    "    return x[:, 0] ** 2 + x[:, 1] ** 2"
   ]
  },
  {
   "cell_type": "code",
   "execution_count": 12,
   "id": "256c60f8",
   "metadata": {},
   "outputs": [
    {
     "data": {
      "text/plain": [
       "array([25., 41., 85., 85.])"
      ]
     },
     "execution_count": 12,
     "metadata": {},
     "output_type": "execute_result"
    }
   ],
   "source": [
    "ex_func_batch(np.array([[3.0, 4.0],\n",
    "                        [4.0, 5.0],\n",
    "                        [6.0, 7.0],\n",
    "                        [6.0, 7.0]]))"
   ]
  },
  {
   "cell_type": "code",
   "execution_count": 25,
   "id": "4536ffbb",
   "metadata": {},
   "outputs": [],
   "source": [
    "def numerical_gradient(f, x):\n",
    "    h = 1e-4 # 0.0001\n",
    "    grad = np.zeros_like(x)\n",
    "    \n",
    "    it = np.nditer(x, flags=['multi_index'], op_flags=['readwrite'])\n",
    "    while not it.finished:\n",
    "        idx = it.multi_index\n",
    "        tmp_val = x[idx]\n",
    "        x[idx] = float(tmp_val) + h\n",
    "        fxh1 = f(x) # f(x+h)\n",
    "        \n",
    "        x[idx] = tmp_val - h \n",
    "        fxh2 = f(x) # f(x-h)\n",
    "        grad[idx] = (fxh1 - fxh2) / (2*h)\n",
    "        \n",
    "        x[idx] = tmp_val # 값 복원\n",
    "        it.iternext()   \n",
    "        \n",
    "    return grad"
   ]
  },
  {
   "cell_type": "code",
   "execution_count": 13,
   "id": "7ea4de57",
   "metadata": {
    "ExecuteTime": {
     "end_time": "2023-09-17T02:17:12.050024Z",
     "start_time": "2023-09-17T02:17:12.048093Z"
    }
   },
   "outputs": [],
   "source": [
    "def _numerical_grad(f, x):\n",
    "    h = 1e-4\n",
    "    grad = np.zeros(x.size)\n",
    "\n",
    "    for dim in range(x.size):\n",
    "        temp = x[dim]\n",
    "\n",
    "        x[dim] = temp - h\n",
    "        f1 = f(x)\n",
    "\n",
    "        x[dim] = temp + h\n",
    "        f2 = f(x)\n",
    "\n",
    "        grad[dim] = (f2 - f1) / (2 * h)\n",
    "\n",
    "    return grad\n",
    "\n",
    "# 데이터 하나씩 계산하니까 너무 느림\n",
    "def numerical_gradient_batch(f, X):\n",
    "    if X.ndim == 1:\n",
    "        return _numerical_grad(f, X)\n",
    "\n",
    "    grad = np.zeros_like(X)\n",
    "    for idx in range(X.shape[0]):\n",
    "        grad[idx] = _numerical_grad(f, X[idx])\n",
    "\n",
    "    return grad\n",
    "\n",
    "#not work\n",
    "def numerical_gradient_batch_v2(f, X):\n",
    "    h = 1e-4\n",
    "    if X.ndim == 1:\n",
    "        return _numerical_grad(f, X)\n",
    "\n",
    "    grad = np.zeros_like(X)\n",
    "    for col in range(X.shape[1]):\n",
    "        H = np.zeros_like(X)\n",
    "        H[:, col] += h\n",
    "\n",
    "        f1 = f(X - H)\n",
    "        f2 = f(X + H)\n",
    "\n",
    "        grad[:, col] = (f2 - f1) / (2 * h)\n",
    "\n",
    "    return grad"
   ]
  },
  {
   "cell_type": "code",
   "execution_count": 14,
   "id": "497089a6",
   "metadata": {},
   "outputs": [
    {
     "data": {
      "text/plain": [
       "array([6., 8.])"
      ]
     },
     "execution_count": 14,
     "metadata": {},
     "output_type": "execute_result"
    }
   ],
   "source": [
    "numerical_gradient_batch(ex_function, np.array([3.0, 4.0]))"
   ]
  },
  {
   "cell_type": "code",
   "execution_count": 15,
   "id": "db932d72",
   "metadata": {},
   "outputs": [
    {
     "data": {
      "text/plain": [
       "array([[ 6.,  8.],\n",
       "       [ 8., 10.],\n",
       "       [12., 14.],\n",
       "       [ 2.,  8.]])"
      ]
     },
     "execution_count": 15,
     "metadata": {},
     "output_type": "execute_result"
    }
   ],
   "source": [
    "numerical_gradient_batch_v2(ex_func_batch, np.array([[3.0, 4.0],\n",
    "                                                   [4.0, 5.0],\n",
    "                                                   [6.0, 7.0],\n",
    "                                                   [1.0, 4.0]]))"
   ]
  },
  {
   "cell_type": "code",
   "execution_count": 16,
   "id": "8085bd2e",
   "metadata": {},
   "outputs": [
    {
     "data": {
      "text/plain": [
       "array([6., 8.])"
      ]
     },
     "execution_count": 16,
     "metadata": {},
     "output_type": "execute_result"
    }
   ],
   "source": [
    "numerical_gradient_batch_v2(ex_function, np.array([3.0, 4.0]))"
   ]
  },
  {
   "cell_type": "code",
   "execution_count": 26,
   "id": "bd90b5f7",
   "metadata": {
    "ExecuteTime": {
     "end_time": "2023-09-17T02:17:12.645926Z",
     "start_time": "2023-09-17T02:17:12.640677Z"
    }
   },
   "outputs": [],
   "source": [
    "def sigmoid(x):\n",
    "    return 1 / (1 + np.exp(-x))\n",
    "\n",
    "def softmax(x):\n",
    "    if x.ndim == 2:\n",
    "        x = x.T\n",
    "        x = x - np.max(x, axis=0)\n",
    "        y = np.exp(x) / np.sum(np.exp(x), axis=0)\n",
    "        return y.T \n",
    "\n",
    "    x = x - np.max(x) # 오버플로 대책\n",
    "    return np.exp(x) / np.sum(np.exp(x))\n",
    "\n",
    "class TwoLayerNet:\n",
    "    def __init__(self, input_size, hidden_size, output_size, weight_init_std=0.01):\n",
    "        self.params = {}\n",
    "        self.params['W1'] = weight_init_std * np.random.randn(input_size, hidden_size)\n",
    "        self.params['W2'] = weight_init_std * np.random.randn(hidden_size, output_size)\n",
    "        \n",
    "        self.params['b1'] = np.zeros(hidden_size)\n",
    "        self.params['b2'] = np.zeros(output_size)\n",
    "        \n",
    "    def predict(self, x):\n",
    "        W1 = self.params['W1']\n",
    "        b1 = self.params['b1']\n",
    "        W2 = self.params['W2']\n",
    "        b2 = self.params['b2']\n",
    "        \n",
    "        a1 = np.dot(x, W1) + b1\n",
    "        z1 = sigmoid(a1)\n",
    "        \n",
    "        a2 = np.dot(z1, W2) + b2\n",
    "        y = softmax(a2)\n",
    "        \n",
    "        return y\n",
    "        \n",
    "    \n",
    "    def loss(self, x, t):\n",
    "        y = self.predict(x)\n",
    "        \n",
    "        return cross_entropy_error_one_hot(y, t)\n",
    "    \n",
    "    def accuracy(self, x, t):\n",
    "        y = self.predict(x)\n",
    "        y = np.argmax(y, axis=1)\n",
    "        t = np.argmax(t, axis=1)\n",
    "        \n",
    "        accuracy = np.sum(y==t) / float(x.shape[0])\n",
    "        return accuracy\n",
    "    \n",
    "    def numerical_gradient(self, x, t):\n",
    "        loss_W = lambda W: self.loss(x, t)\n",
    "        \n",
    "        grads = {}\n",
    "        grads['W1'] = numerical_gradient(loss_W, self.params['W1'])\n",
    "        grads['b1'] = numerical_gradient(loss_W, self.params['b1'])\n",
    "        grads['W2'] = numerical_gradient(loss_W, self.params['W2'])\n",
    "        grads['b2'] = numerical_gradient(loss_W, self.params['b2'])\n",
    "        \n",
    "        return grads"
   ]
  },
  {
   "cell_type": "code",
   "execution_count": 27,
   "id": "fb8ed664",
   "metadata": {
    "ExecuteTime": {
     "end_time": "2023-09-17T02:17:13.122430Z",
     "start_time": "2023-09-17T02:17:13.115083Z"
    }
   },
   "outputs": [
    {
     "name": "stdout",
     "output_type": "stream",
     "text": [
      "(784, 100)\n",
      "(100,)\n",
      "(100, 10)\n",
      "(10,)\n"
     ]
    }
   ],
   "source": [
    "net = TwoLayerNet(input_size=784, hidden_size=100, output_size=10)\n",
    "print(net.params['W1'].shape)\n",
    "print(net.params['b1'].shape)\n",
    "print(net.params['W2'].shape)\n",
    "print(net.params['b2'].shape)"
   ]
  },
  {
   "cell_type": "code",
   "execution_count": 28,
   "id": "aebf514f",
   "metadata": {
    "ExecuteTime": {
     "end_time": "2023-09-17T02:17:14.881826Z",
     "start_time": "2023-09-17T02:17:14.871386Z"
    }
   },
   "outputs": [],
   "source": [
    "x = np.random.rand(100, 784)\n",
    "y = net.predict(x)"
   ]
  },
  {
   "cell_type": "code",
   "execution_count": 29,
   "id": "1ded7af8",
   "metadata": {
    "ExecuteTime": {
     "end_time": "2023-09-17T02:17:16.153844Z",
     "start_time": "2023-09-17T02:17:16.140506Z"
    }
   },
   "outputs": [
    {
     "data": {
      "text/plain": [
       "(10,)"
      ]
     },
     "execution_count": 29,
     "metadata": {},
     "output_type": "execute_result"
    }
   ],
   "source": [
    "x = np.random.rand(3, 784)\n",
    "t = np.random.rand(3, 10)\n",
    "\n",
    "grads = net.numerical_gradient(x, t)\n",
    "\n",
    "grads['W1'].shape\n",
    "grads['b1'].shape\n",
    "grads['W2'].shape\n",
    "grads['b2'].shape"
   ]
  },
  {
   "cell_type": "code",
   "execution_count": 21,
   "id": "5123c070",
   "metadata": {
    "ExecuteTime": {
     "end_time": "2023-09-17T02:17:16.917647Z",
     "start_time": "2023-09-17T02:17:16.913694Z"
    }
   },
   "outputs": [],
   "source": [
    "from dataset.mnist import load_mnist\n",
    "(x_train, t_train), (x_test, t_test) = load_mnist(normalize=True, one_hot_label=True)"
   ]
  },
  {
   "cell_type": "code",
   "execution_count": 31,
   "id": "e0fd5322",
   "metadata": {
    "ExecuteTime": {
     "end_time": "2023-09-17T01:50:44.266715Z",
     "start_time": "2023-09-17T01:50:44.258396Z"
    }
   },
   "outputs": [],
   "source": [
    "iters_num=30\n",
    "train_size = x_train.shape[0]\n",
    "batch_size = 100\n",
    "learning_rate = 0.1"
   ]
  },
  {
   "cell_type": "code",
   "execution_count": null,
   "id": "5bcc7963",
   "metadata": {
    "ExecuteTime": {
     "end_time": "2023-09-17T02:17:19.379546Z",
     "start_time": "2023-09-17T02:17:19.370333Z"
    }
   },
   "outputs": [],
   "source": [
    "net = TwoLayerNet(input_size=784, hidden_size=100, output_size=10)\n",
    "\n",
    "train_loss_list = []\n",
    "train_acc_list = []\n",
    "test_acc_list = []\n",
    "\n",
    "point_count = 0\n",
    "\n",
    "for i in range(iters_num):\n",
    "    batch_mask = np.random.choice(train_size, batch_size)\n",
    "    x_batch = x_train[batch_mask]\n",
    "    t_batch = t_train[batch_mask]\n",
    "    \n",
    "    grad = net.numerical_gradient(x_batch, t_batch)\n",
    "    \n",
    "    net.params['W1'] -= learning_rate * grad['W1']\n",
    "    net.params['b1'] -= learning_rate * grad['b1']\n",
    "    net.params['W2'] -= learning_rate * grad['W2']\n",
    "    net.params['b2'] -= learning_rate * grad['b2']\n",
    "    \n",
    "    loss = net.loss(x_batch, t_batch)\n",
    "    train_loss_list.append(loss)\n",
    "    \n",
    "    point_count += 1\n",
    "\n",
    "    train_acc = net.accuracy(x_train, t_train)\n",
    "    test_acc = net.accuracy(x_test, t_test)\n",
    "\n",
    "    train_acc_list.append(train_acc)\n",
    "    test_acc_list.append(test_acc)\n",
    "\n",
    "    print(f\"{i}th iter... test_acc: {test_acc}, train_acc: {train_acc}, loss: {loss}\")"
   ]
  },
  {
   "cell_type": "code",
   "execution_count": null,
   "id": "74a734a2",
   "metadata": {
    "ExecuteTime": {
     "end_time": "2023-09-17T02:17:19.977988Z",
     "start_time": "2023-09-17T02:17:19.962371Z"
    }
   },
   "outputs": [],
   "source": [
    "import matplotlib.pyplot as plt\n",
    "\n",
    "plt.plot(np.arange(point_count), train_acc_list)\n",
    "plt.plot(np.arange(point_count), test_acc_list)\n",
    "plt.show()"
   ]
  },
  {
   "cell_type": "code",
   "execution_count": null,
   "id": "aaad542f",
   "metadata": {
    "ExecuteTime": {
     "end_time": "2023-09-17T02:17:20.892275Z",
     "start_time": "2023-09-17T02:17:20.840210Z"
    }
   },
   "outputs": [],
   "source": [
    "plt.plot(np.arange(iters_num), train_loss_list)\n",
    "plt.show()"
   ]
  },
  {
   "cell_type": "code",
   "execution_count": null,
   "id": "967d0905",
   "metadata": {},
   "outputs": [],
   "source": []
  }
 ],
 "metadata": {
  "kernelspec": {
   "display_name": "ml_venv",
   "language": "python",
   "name": "venv"
  },
  "language_info": {
   "codemirror_mode": {
    "name": "ipython",
    "version": 3
   },
   "file_extension": ".py",
   "mimetype": "text/x-python",
   "name": "python",
   "nbconvert_exporter": "python",
   "pygments_lexer": "ipython3",
   "version": "3.10.5"
  }
 },
 "nbformat": 4,
 "nbformat_minor": 5
}
