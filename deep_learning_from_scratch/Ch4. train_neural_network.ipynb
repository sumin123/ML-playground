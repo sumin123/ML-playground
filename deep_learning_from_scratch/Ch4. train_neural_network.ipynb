{
 "cells": [
  {
   "cell_type": "markdown",
   "id": "ba02bf20263cedaf",
   "metadata": {},
   "source": [
    "# 신경망 학습\n",
    "\n",
    "## 1 손실함수\n",
    "손실함수는 신경망이 학습을 하는 지표로 MSE, cross-entropy 등이 있다.\n",
    "\n",
    "### 1.1 MSE"
   ]
  },
  {
   "cell_type": "code",
   "execution_count": 1,
   "id": "a3448598303d7efe",
   "metadata": {
    "ExecuteTime": {
     "end_time": "2023-09-16T11:45:40.688017Z",
     "start_time": "2023-09-16T11:45:40.624213Z"
    }
   },
   "outputs": [],
   "source": [
    "import numpy as np"
   ]
  },
  {
   "cell_type": "code",
   "execution_count": 2,
   "id": "e238ea1925498616",
   "metadata": {
    "ExecuteTime": {
     "end_time": "2023-09-16T11:45:40.748060Z",
     "start_time": "2023-09-16T11:45:40.716899Z"
    }
   },
   "outputs": [],
   "source": [
    "def mean_squred_error(y, t):\n",
    "\treturn 0.5 * np.sum((y-t)**2)"
   ]
  },
  {
   "cell_type": "code",
   "execution_count": 3,
   "id": "5b3de2251190a0fa",
   "metadata": {
    "ExecuteTime": {
     "end_time": "2023-09-16T11:45:40.762222Z",
     "start_time": "2023-09-16T11:45:40.753234Z"
    }
   },
   "outputs": [
    {
     "name": "stdout",
     "output_type": "stream",
     "text": [
      "0.10750000000000003\n"
     ]
    }
   ],
   "source": [
    "t = [0, 0, 1, 0, 0]\n",
    "y = [0.1, 0.05, 0.6, 0.05, 0.2]\n",
    "\n",
    "print(mean_squred_error(np.array(y), np.array(t)))"
   ]
  },
  {
   "cell_type": "markdown",
   "id": "57b42110e00e9b73",
   "metadata": {},
   "source": [
    "### 1.2 cross entropy error"
   ]
  },
  {
   "cell_type": "code",
   "execution_count": 4,
   "id": "27e901a4c20e2781",
   "metadata": {
    "ExecuteTime": {
     "end_time": "2023-09-16T11:45:41.551874Z",
     "start_time": "2023-09-16T11:45:41.544630Z"
    }
   },
   "outputs": [],
   "source": [
    "def cross_entropy_error(y, t):\n",
    "\tdelta = 1e-7\n",
    "\treturn -np.sum(t * np.log(y + delta))"
   ]
  },
  {
   "cell_type": "code",
   "execution_count": 5,
   "id": "7098a93faa33d9e1",
   "metadata": {
    "ExecuteTime": {
     "end_time": "2023-09-16T11:45:41.714027Z",
     "start_time": "2023-09-16T11:45:41.708926Z"
    }
   },
   "outputs": [
    {
     "name": "stdout",
     "output_type": "stream",
     "text": [
      "0.510825457099338\n"
     ]
    }
   ],
   "source": [
    "t = [0, 0, 1, 0, 0, 0, 0, 0]\n",
    "y = [0.1, 0.05, 0.6, 0, 0.1, 0.05, 0, 0.1]\n",
    "\n",
    "print(cross_entropy_error(np.array(y), np.array(t)))"
   ]
  },
  {
   "cell_type": "markdown",
   "id": "efae164d31a6168c",
   "metadata": {},
   "source": [
    "### 1.3 mini batch\n",
    "배치 단위로 학습을 할 때는 모든 데이터에 대한 평균 손실 함수를 사용하면 이상적일 것이다.\n",
    "하지만 데이터의 사이즈가 너무 커지면 이는 현실적이지 않다. 따라서 일부 데이터를 샘플링하여 샘플에 대한 손실 함수를 이용하여 학습한다. 이 샘플을 mini batch라고 부른다.\n",
    " "
   ]
  },
  {
   "cell_type": "code",
   "execution_count": 1,
   "id": "fbe78cd8677c1b1a",
   "metadata": {
    "ExecuteTime": {
     "end_time": "2023-09-16T11:45:42.113098Z",
     "start_time": "2023-09-16T11:45:42.053937Z"
    }
   },
   "outputs": [
    {
     "name": "stdout",
     "output_type": "stream",
     "text": [
      "(60000, 784)\n",
      "(60000, 10)\n"
     ]
    }
   ],
   "source": [
    "import sys, os\n",
    "sys.path.append(os.curdir)\n",
    "import numpy as np\n",
    "from dataset.mnist import load_mnist\n",
    "\n",
    "(x_train, t_train), (x_test, t_test) = load_mnist(normalize=True, one_hot_label=True)\n",
    "print(x_train.shape)\n",
    "print(t_train.shape)"
   ]
  },
  {
   "cell_type": "code",
   "execution_count": 2,
   "id": "91333eba",
   "metadata": {},
   "outputs": [],
   "source": [
    "train_size = x_train.shape[0]\n",
    "batch_size = 10\n",
    "batch_mask = np.random.choice(train_size, batch_size)\n",
    "\n",
    "x_batch = x_train[batch_mask]\n",
    "t_batch = t_train[batch_mask]"
   ]
  },
  {
   "cell_type": "code",
   "execution_count": 3,
   "id": "be1f71f1",
   "metadata": {},
   "outputs": [],
   "source": [
    "def cross_entropy_error(y, t):\n",
    "    if y.ndim == 1:\n",
    "        t = t.reshape(1, t.size)\n",
    "        y = y.reshape(1, y.size)\n",
    "        \n",
    "    batch_size = y.shape[0]\n",
    "    return -np.sum(t * np.log(y)) / batch_size"
   ]
  },
  {
   "cell_type": "markdown",
   "id": "38724b87",
   "metadata": {},
   "source": [
    "정답 레이블이 one-hot encoding 되어 있으므로 -t*np.log(y)를 sum하는 것이 의미가 없다"
   ]
  },
  {
   "cell_type": "code",
   "execution_count": 34,
   "id": "1a70af95",
   "metadata": {},
   "outputs": [],
   "source": [
    "def cross_entropy_error(y, t):\n",
    "    if y.ndim == 1:\n",
    "        t = t.reshape(1, t.size)\n",
    "        y = y.reshape(1, y.size)\n",
    "        \n",
    "    batch_size = y.shape[0]\n",
    "    return -np.sum(np.log(y[np.arange(batch_size), t])) / batch_size"
   ]
  },
  {
   "cell_type": "markdown",
   "id": "2005bb0f",
   "metadata": {},
   "source": [
    "정확도가 아니라 손실 함수를 학습에 사용하는 이유는 정확도는 작은 변화에 반응이 거의 없어 미분 값이 0이기 때문이다."
   ]
  },
  {
   "cell_type": "markdown",
   "id": "6a7a3047",
   "metadata": {},
   "source": [
    "## 2. 신경망 구현하기"
   ]
  },
  {
   "cell_type": "code",
   "execution_count": 49,
   "id": "7ea4de57",
   "metadata": {},
   "outputs": [],
   "source": [
    "def numerical_gradient(f, x):\n",
    "    h = 1e-4\n",
    "    grad = np.zeros_like(x)\n",
    "    \n",
    "    for idx in range(x.shape[0]):\n",
    "        tmp_val = x[idx]\n",
    "        \n",
    "        x[idx] = tmp_val + h\n",
    "        fxh1 = f(x)\n",
    "        \n",
    "        x[idx] = tmp_val - h\n",
    "        fxh2 = f(x)\n",
    "        \n",
    "        grad[idx] = (fxh1 - fxh2) / (2 * h)\n",
    "        \n",
    "    return grad"
   ]
  },
  {
   "cell_type": "code",
   "execution_count": 50,
   "id": "bd90b5f7",
   "metadata": {},
   "outputs": [],
   "source": [
    "def sigmoid(x):\n",
    "    return 1 / (1 + np.exp(-x))\n",
    "\n",
    "def softmax(a):\n",
    "    c = np.max(a) # overflow 방지\n",
    "    exp_a = np.exp(a - c)\n",
    "    sum_exp_a = np.sum(exp_a)\n",
    "    y = exp_a / sum_exp_a\n",
    "    return y\n",
    "\n",
    "class TwoLayerNet:\n",
    "    def __init__(self, input_size, hidden_size, output_size, weight_init_std=0.01):\n",
    "        self.params = {}\n",
    "        self.params['W1'] = weight_init_std * np.random.randn(input_size, hidden_size)\n",
    "        self.params['W2'] = weight_init_std * np.random.randn(hidden_size, output_size)\n",
    "        \n",
    "        self.params['b1'] = np.zeros(hidden_size)\n",
    "        self.params['b2'] = np.zeros(output_size)\n",
    "        \n",
    "    def predict(self, x):\n",
    "        W1 = self.params['W1']\n",
    "        b1 = self.params['b1']\n",
    "        W2 = self.params['W2']\n",
    "        b2 = self.params['b2']\n",
    "        \n",
    "        a1 = np.dot(x, W1) + b1\n",
    "        z1 = sigmoid(a1)\n",
    "        \n",
    "        a2 = np.dot(z1, W2) + b2\n",
    "        y = softmax(a2)\n",
    "        \n",
    "        return y\n",
    "        \n",
    "    \n",
    "    def loss(self, x, t):\n",
    "        y = self.predict(x)\n",
    "        t = np.argmax(t, axis=1)\n",
    "        \n",
    "        return cross_entropy_error(y, t)\n",
    "    \n",
    "    def accuracy(self, x, t):\n",
    "        y = self.predict(x)\n",
    "        y = np.argmax(y, axis=1)\n",
    "        t = np.argmax(t, axis=1)\n",
    "        \n",
    "        accuracy = np.sum(y==t) / float(x.shape[0])\n",
    "        return accuracy\n",
    "    \n",
    "    def numerical_gradient(self, x, t):\n",
    "        loss_W = lambda W: self.loss(x, t)\n",
    "        \n",
    "        grads = {}\n",
    "        grads['W1'] = numerical_gradient(loss_W, self.params['W1'])\n",
    "        grads['b1'] = numerical_gradient(loss_W, self.params['b1'])\n",
    "        grads['W2'] = numerical_gradient(loss_W, self.params['W2'])\n",
    "        grads['b2'] = numerical_gradient(loss_W, self.params['b2'])\n",
    "        \n",
    "        return grads"
   ]
  },
  {
   "cell_type": "code",
   "execution_count": 51,
   "id": "fb8ed664",
   "metadata": {},
   "outputs": [
    {
     "name": "stdout",
     "output_type": "stream",
     "text": [
      "(784, 100)\n",
      "(100,)\n",
      "(100, 10)\n",
      "(10,)\n"
     ]
    }
   ],
   "source": [
    "net = TwoLayerNet(input_size=784, hidden_size=100, output_size=10)\n",
    "print(net.params['W1'].shape)\n",
    "print(net.params['b1'].shape)\n",
    "print(net.params['W2'].shape)\n",
    "print(net.params['b2'].shape)"
   ]
  },
  {
   "cell_type": "code",
   "execution_count": 52,
   "id": "aebf514f",
   "metadata": {},
   "outputs": [],
   "source": [
    "x = np.random.rand(100, 784)\n",
    "y = net.predict(x)"
   ]
  },
  {
   "cell_type": "code",
   "execution_count": 53,
   "id": "1ded7af8",
   "metadata": {},
   "outputs": [
    {
     "data": {
      "text/plain": [
       "(10,)"
      ]
     },
     "execution_count": 53,
     "metadata": {},
     "output_type": "execute_result"
    }
   ],
   "source": [
    "x = np.random.rand(100, 784)\n",
    "t = np.random.rand(100, 10)\n",
    "\n",
    "grads = net.numerical_gradient(x, t)\n",
    "\n",
    "grads['W1'].shape\n",
    "grads['b1'].shape\n",
    "grads['W2'].shape\n",
    "grads['b2'].shape"
   ]
  },
  {
   "cell_type": "code",
   "execution_count": 54,
   "id": "5123c070",
   "metadata": {},
   "outputs": [],
   "source": [
    "from dataset.mnist import load_mnist\n",
    "(x_train, t_train), (x_test, t_test) = load_mnist(normalize=True, one_hot_label=True)"
   ]
  },
  {
   "cell_type": "code",
   "execution_count": 88,
   "id": "e0fd5322",
   "metadata": {},
   "outputs": [],
   "source": [
    "iters_num=1000\n",
    "train_size = x_train.shape[0]\n",
    "batch_size = 100\n",
    "learning_rate = 0.1"
   ]
  },
  {
   "cell_type": "code",
   "execution_count": 89,
   "id": "5bcc7963",
   "metadata": {},
   "outputs": [
    {
     "name": "stdout",
     "output_type": "stream",
     "text": [
      "0th iter... test_acc: 0.0982, train_acc: 0.09736666666666667, loss: 4.609600161125548\n",
      "100th iter... test_acc: 0.0892, train_acc: 0.09035, loss: 4.272359917992235\n",
      "200th iter... test_acc: 0.0892, train_acc: 0.09035, loss: 4.212316580961359\n",
      "300th iter... test_acc: 0.0892, train_acc: 0.09035, loss: 4.1847754048207815\n",
      "400th iter... test_acc: 0.0892, train_acc: 0.09035, loss: 4.168379746823591\n",
      "500th iter... test_acc: 0.0892, train_acc: 0.09035, loss: 4.157450267466883\n",
      "600th iter... test_acc: 0.0892, train_acc: 0.09035, loss: 4.149603777951341\n",
      "700th iter... test_acc: 0.0892, train_acc: 0.09035, loss: 4.143692291170246\n",
      "800th iter... test_acc: 0.0892, train_acc: 0.09035, loss: 4.139093181313555\n",
      "900th iter... test_acc: 0.0892, train_acc: 0.09035, loss: 4.135427562884702\n"
     ]
    }
   ],
   "source": [
    "net = TwoLayerNet(input_size=784, hidden_size=100, output_size=10)\n",
    "\n",
    "train_loss_list = []\n",
    "train_acc_list = []\n",
    "test_acc_list = []\n",
    "\n",
    "point_count = 0\n",
    "\n",
    "for i in range(iters_num):\n",
    "    batch_mast = np.random.choice(train_size, batch_size)\n",
    "    x_batch = x_train[batch_mask]\n",
    "    t_batch = t_train[batch_mask]\n",
    "    \n",
    "    grad = net.numerical_gradient(x_batch, t_batch)\n",
    "    \n",
    "    net.params['W1'] -= learning_rate * grad['W1']\n",
    "    net.params['b1'] -= learning_rate * grad['b1']\n",
    "    net.params['W2'] -= learning_rate * grad['W2']\n",
    "    net.params['b2'] -= learning_rate * grad['b2']\n",
    "    \n",
    "    loss = net.loss(x_batch, t_batch)\n",
    "    train_loss_list.append(loss)\n",
    "    \n",
    "    if i % 100 == 0:\n",
    "        point_count += 1\n",
    "        train_acc = net.accuracy(x_train, t_train)\n",
    "        test_acc = net.accuracy(x_test, t_test)\n",
    "        train_acc_list.append(train_acc)\n",
    "        test_acc_list.append(test_acc)\n",
    "        print(f\"{i}th iter... test_acc: {test_acc}, train_acc: {train_acc}, loss: {loss}\")"
   ]
  },
  {
   "cell_type": "code",
   "execution_count": 90,
   "id": "74a734a2",
   "metadata": {},
   "outputs": [
    {
     "data": {
      "image/png": "[encoded data removed]",
      "text/plain": [
       "<Figure size 640x480 with 1 Axes>"
      ]
     },
     "metadata": {},
     "output_type": "display_data"
    }
   ],
   "source": [
    "import matplotlib.pyplot as plt\n",
    "\n",
    "plt.plot(np.arange(point_count), train_acc_list)\n",
    "plt.plot(np.arange(point_count), test_acc_list)\n",
    "plt.show()"
   ]
  },
  {
   "cell_type": "code",
   "execution_count": 91,
   "id": "aaad542f",
   "metadata": {},
   "outputs": [
    {
     "data": {
      "image/png": "[encoded data removed]",
      "text/plain": [
       "<Figure size 640x480 with 1 Axes>"
      ]
     },
     "metadata": {},
     "output_type": "display_data"
    }
   ],
   "source": [
    "plt.plot(np.arange(iters_num), train_loss_list)\n",
    "plt.show()"
   ]
  },
  {
   "cell_type": "code",
   "execution_count": null,
   "id": "535bec91",
   "metadata": {},
   "outputs": [],
   "source": []
  }
 ],
 "metadata": {
  "kernelspec": {
   "display_name": "ml_venv",
   "language": "python",
   "name": "venv"
  },
  "language_info": {
   "codemirror_mode": {
    "name": "ipython",
    "version": 3
   },
   "file_extension": ".py",
   "mimetype": "text/x-python",
   "name": "python",
   "nbconvert_exporter": "python",
   "pygments_lexer": "ipython3",
   "version": "3.10.5"
  }
 },
 "nbformat": 4,
 "nbformat_minor": 5
}
